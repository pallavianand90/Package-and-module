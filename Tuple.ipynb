{
 "cells": [
  {
   "cell_type": "code",
   "execution_count": 1,
   "id": "6b20cc27",
   "metadata": {},
   "outputs": [],
   "source": [
    "import logging as lg\n",
    "lg.basicConfig(filename='logger_file3.log' ,level = lg.INFO, format  = '%(asctime)s %(levelname)s %(message)s',filemode = 'a')"
   ]
  },
  {
   "cell_type": "code",
   "execution_count": 2,
   "id": "128c8a4b",
   "metadata": {},
   "outputs": [],
   "source": [
    "class Tuple_func:\n",
    "    lg.info(\"Creating Class body\")\n",
    "    def __init__(self,l):\n",
    "        self.l = l\n",
    "        lg.info(\"Body of the Class created\")\n",
    "        \n",
    "    def count_tuple_func(self,a):\n",
    "        '''It will count the frequency of element'''\n",
    "        try:\n",
    "            lg.info(\"Started counting the elements..\")\n",
    "            x = self.l.count(a)\n",
    "            lg.info(\"Successful\")\n",
    "            return x\n",
    "        \n",
    "        except Exception as e:\n",
    "            lg.exception(\"Error occured: \"+ str(e))\n",
    "            lg.error(\"Something went Wrong\")\n",
    "            lg.warning(\"Fix the bug otherwise code will not work!!!!\")\n",
    "            \n",
    "    def index_tuple_func(self,a):\n",
    "        '''It will give index of the element'''\n",
    "        try:\n",
    "            lg.info(\"Started counting the indexes..\")\n",
    "            x = self.l.index(a)\n",
    "            lg.info(\"Successful\")\n",
    "            return x\n",
    "        \n",
    "        except Exception as e:\n",
    "            lg.exception(\"Error occured: \"+ str(e))\n",
    "            lg.error(\"Something went Wrong\")\n",
    "            lg.warning(\"Fix the bug otherwise code will not work!!!!\")\n",
    "                    \n",
    "                 \n",
    "        "
   ]
  }
 ],
 "metadata": {
  "kernelspec": {
   "display_name": "Python 3 (ipykernel)",
   "language": "python",
   "name": "python3"
  },
  "language_info": {
   "codemirror_mode": {
    "name": "ipython",
    "version": 3
   },
   "file_extension": ".py",
   "mimetype": "text/x-python",
   "name": "python",
   "nbconvert_exporter": "python",
   "pygments_lexer": "ipython3",
   "version": "3.9.7"
  }
 },
 "nbformat": 4,
 "nbformat_minor": 5
}
